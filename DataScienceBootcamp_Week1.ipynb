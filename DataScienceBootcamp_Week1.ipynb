{
 "cells": [
  {
   "cell_type": "markdown",
   "metadata": {
    "id": "kk04ry-vQIjl"
   },
   "source": [
    "## **Data Science Bootcamp, Spring '24**\n",
    "\n",
    "<br>\n",
    "\n",
    "---\n",
    "\n",
    "### Lecture 1 : **Introduction to Python**\n",
    "\n",
    "#### Instructor: **Abirami Sivakumar**\n",
    "\n",
    "##### February 27,2024\n",
    "\n",
    "---\n",
    "---\n"
   ]
  },
  {
   "cell_type": "markdown",
   "metadata": {
    "id": "n2rzFzFJCMmM"
   },
   "source": [
    "**Attribution**:\n",
    "\n",
    "-Parts of this notebook are adapted from Kartik Jindgar's lectures from previous bootcamps."
   ]
  },
  {
   "cell_type": "markdown",
   "metadata": {
    "id": "qt6kPAPOQ33V"
   },
   "source": [
    "## Primitive Datatypes\n",
    "\n",
    "---\n",
    "Python has the following primitive datatypes:\n",
    "\n",
    "<br>\n",
    "\n",
    "|Datatype|Description | Examples|\n",
    "|-----|---------------- |------------|\n",
    "| Int | Integer Numbers | 1,2,3...|\n",
    "|Float| Real Numbers    | 3.14    |\n",
    "|String| Text Contents | \"Hello World\"|\n",
    "|Bool | Boolean Values| True, False|\n",
    "|NoneType| Special Type | None|\n",
    "\n",
    "<br>\n",
    "\n",
    "Their syntax is given in the next cell\n",
    "\n",
    "\n",
    "\n"
   ]
  },
  {
   "cell_type": "code",
   "execution_count": null,
   "metadata": {
    "id": "YkTbMSOlQJOX"
   },
   "outputs": [],
   "source": [
    "a = 10\n",
    "b = 3.14\n",
    "c = \"Hello World\"\n",
    "d = True\n",
    "e = None\n",
    "\n",
    "print(\"a is - \",type(a) )\n",
    "print(\"b is - \",type(b) )\n",
    "print(\"c is - \",type(c) )\n",
    "print(\"d is - \",type(d) )\n",
    "print(\"e is - \",type(e) )"
   ]
  },
  {
   "cell_type": "markdown",
   "metadata": {
    "id": "l7eSyj2tMRqe"
   },
   "source": [
    "By the way: note that you did not have to declare the variable **'a'** or specify its type before you assigned a value to it. In Python, you can create a variable just by assigning something to it."
   ]
  },
  {
   "cell_type": "markdown",
   "metadata": {
    "id": "UATRHJQZUUA6"
   },
   "source": [
    "## Expressions and Operators\n",
    "\n",
    "---\n",
    "<br>\n",
    "\n",
    "Expressions combine different **objects** and **operators**. An expression has a value and value has a type\n",
    "\n",
    "<br>\n",
    "\n",
    "| Arithmetic | Comparison| Boolean |\n",
    "|------------|-----------|---------|\n",
    "|= Assignment|== Equality| not Negation|\n",
    "|+ Sum| != Inequality| and Conjunction|\n",
    "|- Difference| > More than| or Disjunction|\n",
    "|* Product| >= More or equal | |\n",
    "|/ Division| < Less than | |\n",
    "|// Quotient| <= Less or equal||\n",
    "|% Remainder|\n",
    "|** Power ||"
   ]
  },
  {
   "cell_type": "code",
   "execution_count": null,
   "metadata": {
    "id": "ZwdpBVgVT8Kg"
   },
   "outputs": [],
   "source": [
    "a = 10\n",
    "b = a+100\n",
    "print(\"b after addition = \", b,'\\n')\n",
    "\n",
    "rem = b%10\n",
    "quotient = b//10\n",
    "print(\"Remainder of b divided by 10 is \", rem,'\\n')\n",
    "print(\"Quotient of b divided by 10 is \", quotient,'\\n')\n",
    "\n",
    "c = rem**5\n",
    "print(\"C : rem ^5 =\",c,'\\n')"
   ]
  },
  {
   "cell_type": "code",
   "execution_count": null,
   "metadata": {
    "id": "8vX2FbCvZnpo"
   },
   "outputs": [],
   "source": [
    "print(b==10)\n",
    "print((b-100)==10)\n",
    "print(b!=10)"
   ]
  },
  {
   "cell_type": "code",
   "execution_count": null,
   "metadata": {
    "id": "Qhk0VR3waW8Y"
   },
   "outputs": [],
   "source": [
    "print(b==110 and c==10)\n",
    "print(b==110 or  c==10)\n",
    "print(not c==10)"
   ]
  },
  {
   "cell_type": "markdown",
   "metadata": {
    "id": "nAd1qMMChbhZ"
   },
   "source": [
    "## Compound Data Types/ Containers\n",
    "*Used to store data that is made up of multiple values*\n",
    "\n",
    "只有list是mutable！！\n",
    "1. Lists - Ordered Sequence - Mutable - Mixed element types ！！！\n",
    "2. Tuples - Ordered Sequence - Immutable - Mixed element types\n",
    "3. Dictionaries - key-values pairs, - keys have to be unique but values can be duplicate and of any format. Does not have continuous memory allocation. Elements are accessed using keys."
   ]
  },
  {
   "cell_type": "markdown",
   "metadata": {
    "id": "pyLZjJoay464"
   },
   "source": [
    "###Lists:"
   ]
  },
  {
   "cell_type": "code",
   "execution_count": 9,
   "metadata": {
    "colab": {
     "base_uri": "https://localhost:8080/"
    },
    "id": "mV7E53B2ohdZ",
    "outputId": "1e731e96-9725-4eee-a79d-dff4bcfdc238"
   },
   "outputs": [
    {
     "name": "stdout",
     "output_type": "stream",
     "text": [
      "['DataScienceBootcamp', 2024]\n",
      "['DataScienceBootcamp', 2024, 'Section1']\n",
      "2024\n"
     ]
    }
   ],
   "source": [
    "#Lists\n",
    "l = [\"DataScienceBootcamp\",2024] #list declaration and initiation\n",
    "print(l)\n",
    "l.append(\"Section1\") #adding element to end of the list -> like a push operation\n",
    "print(l)\n",
    "\n",
    "l_1= l[1]\n",
    "print(l_1)\n"
   ]
  },
  {
   "cell_type": "markdown",
   "metadata": {
    "id": "wH9JrMQ_0Qum"
   },
   "source": [
    "####Slicing\n",
    "In addition to accessing list elements one at a time, Python provides concise syntax to access sublists; this is known as **slicing**.\n",
    "\n",
    "**Lst[ Initial : End : IndexJump ]**"
   ]
  },
  {
   "cell_type": "code",
   "execution_count": 14,
   "metadata": {
    "colab": {
     "base_uri": "https://localhost:8080/"
    },
    "id": "QvxIes3F0aCo",
    "outputId": "6a4844fb-b0c3-4e60-aab1-f64457cb1f66"
   },
   "outputs": [
    {
     "name": "stdout",
     "output_type": "stream",
     "text": [
      "[0, 1, 2, 3, 4]\n",
      "[2, 3]\n",
      "[2, 3, 4]\n",
      "[0, 1]\n",
      "[0, 1, 2, 3, 4]\n",
      "[0, 1, 2, 3]\n"
     ]
    }
   ],
   "source": [
    "nums = list(range(5))    # range is a built-in function that creates a list of integers\n",
    "print(nums)         # Prints \"[0, 1, 2, 3, 4]\"\n",
    "print(nums[2:4])    # Get a slice from index 2 to 4 (exclusive)\n",
    "print(nums[2:])     # Get a slice from index 2 to the end\n",
    "print(nums[:2])     # Get a slice from the start to index 2 (exclusive)\n",
    "print(nums[:])      # Get a slice of the whole list\n",
    "print(nums[:-1])    # Slice indices can be negative\n",
    "nums[2:4] = [8, 9] # Assign a new sublist to a slice\n",
    "#print(nums)"
   ]
  },
  {
   "cell_type": "markdown",
   "metadata": {
    "id": "0RUIbWlJy1YK"
   },
   "source": [
    "As usual, you can find all the gory details about lists in the [documentation](https://docs.python.org/3.7/tutorial/datastructures.html#more-on-lists).\n",
    "\n",
    "\n"
   ]
  },
  {
   "cell_type": "markdown",
   "metadata": {
    "id": "bHnmURcg4nET"
   },
   "source": [
    "###Tuples:"
   ]
  },
  {
   "cell_type": "code",
   "execution_count": null,
   "metadata": {
    "id": "Yf6mJqw3iBCZ"
   },
   "outputs": [],
   "source": [
    "#Tuples\n",
    "t = ()\n",
    "t=(\"NYU\",\"DataScience\",\"bootcamp\",2024)\n",
    "print(t)\n",
    "print(t[2])\n",
    "print(t[1:3])\n",
    "#t[2]=5\n",
    "#print(t[2])"
   ]
  },
  {
   "cell_type": "markdown",
   "metadata": {
    "id": "qD3uAZXY7ty1"
   },
   "source": [
    "###Dictionary:\n",
    "**dictn={'key':value}**"
   ]
  },
  {
   "cell_type": "code",
   "execution_count": null,
   "metadata": {
    "id": "itZgrU8279Yy"
   },
   "outputs": [],
   "source": [
    "dictn={'Fruit':'Mango','Vegetable':'Beans'}\n",
    "print(dictn['Fruit'])\n",
    "print(dictn.items())"
   ]
  },
  {
   "cell_type": "code",
   "execution_count": null,
   "metadata": {
    "id": "ShshsF7b-WOw"
   },
   "outputs": [],
   "source": [
    "dt = {'cat': 'cute', 'dog': 'furry'}  # Create a new dictionary with some data\n",
    "print(dt['cat'])       # Get an entry from a dictionary\n",
    "print('cat' in dt)     # Check if a dictionary has a given key"
   ]
  },
  {
   "cell_type": "code",
   "execution_count": null,
   "metadata": {
    "id": "Z8Ql8cdqjzBi"
   },
   "outputs": [],
   "source": [
    "#Dictionaries\n",
    "d={}\n",
    "d['key1']='value1'\n",
    "d['key2']=10\n",
    "print(d)\n",
    "print(d['key1'])\n",
    "print(d.get('key2'))\n",
    "print(d.get('key3'))"
   ]
  },
  {
   "cell_type": "markdown",
   "metadata": {
    "id": "B37WGFjbAg3r"
   },
   "source": [
    "You can find all you need to know about dictionaries in the [documentation](https://docs.python.org/2/library/stdtypes.html#dict)."
   ]
  },
  {
   "cell_type": "markdown",
   "metadata": {
    "id": "Cqp8O_1yeDiU"
   },
   "source": [
    "## Control Flow : Branching, Iteration\n",
    "---\n",
    "\n",
    "Evaluate a block of code if a condition is True.\n",
    "\n",
    "In the following cells we will look at conditional satements(if-else) and loops(for and while)."
   ]
  },
  {
   "cell_type": "markdown",
   "metadata": {
    "id": "fXRrM1tk_DBX"
   },
   "source": [
    "### If-Else\n",
    "Conditional statements in Python allow you to make decisions in your code based on certain conditions. The if-else statement is one of the fundamental building blocks of conditional logic in Python.\n",
    "\n",
    "\n",
    "### Basic Syntax\n",
    "\n",
    "```python\n",
    "if condition:\n",
    "    # Code to execute if the condition is True        #notice indentation\n",
    "else:\n",
    "    # Code to execute if the condition is False\n",
    "```\n",
    "### Elif (Else If)\n",
    "To handle multiple conditions, you can use the elif (short for \"else if\") keyword:"
   ]
  },
  {
   "cell_type": "code",
   "execution_count": null,
   "metadata": {
    "id": "4FB7-w8Yl_j3"
   },
   "outputs": [],
   "source": [
    "#if-else\n",
    "r=10\n",
    "area = 3.14*(r**2)\n",
    "\n",
    "if area>500:\n",
    "  print(\"This is a big circle\")\n",
    "elif area>100 and area<500:\n",
    "  print(\"This is a medium circle\")\n",
    "else:\n",
    "  print(\"This is a small circle\")"
   ]
  },
  {
   "cell_type": "markdown",
   "metadata": {
    "id": "wQNFAAu5S_ri"
   },
   "source": [
    "Note especially the use of colons (:) and whitespace to denote separate blocks of code.\n",
    "\n",
    "A block of code is a set of statements that should be treated as a unit. In C, for example, code blocks are denoted by curly braces:"
   ]
  },
  {
   "cell_type": "markdown",
   "metadata": {
    "id": "nxvd95E_UJGm"
   },
   "source": [
    "```\n",
    "// C code\n",
    "int main()\n",
    "{\n",
    "int i=10;\n",
    "if(i==10)\n",
    "{\n",
    "    print(\"i is 10\");\n",
    "}\n",
    "  return 0;\n",
    "}\n",
    "```\n",
    "In Python code blocks are denoted by Indentation\n",
    "```\n",
    "i = 10\n",
    "if i == 10:\n",
    "    print(\"i is 10\")\n",
    "```"
   ]
  },
  {
   "cell_type": "markdown",
   "metadata": {
    "id": "nUgHnt2a_DBa"
   },
   "source": [
    "### While Loop\n",
    "A `while` loop repeatedly executes code while a condition remains True or until a condition is met.\n",
    "* Use them when the number of iterations is unknown in advance\n",
    "\n",
    "```\n",
    "while condition:\n",
    "    # Code to execute while the condition is True\n",
    "```"
   ]
  },
  {
   "cell_type": "code",
   "execution_count": null,
   "metadata": {
    "id": "65widh7nmcJb"
   },
   "outputs": [],
   "source": [
    "#while loop:\n",
    "\n",
    "i=100\n",
    "sum=0\n",
    "while i>0:\n",
    "  sum=sum+i  #can be written as sum+=i as well\n",
    "  i=i-1\n",
    "print(\"Sum of first 100 numbers is \",sum)"
   ]
  },
  {
   "cell_type": "code",
   "execution_count": null,
   "metadata": {
    "id": "utPh8fLUnm7W"
   },
   "outputs": [],
   "source": [
    "#Using Break Statement\n",
    "sum = 0\n",
    "i=100\n",
    "while True:\n",
    "  if i<0:\n",
    "    break\n",
    "\n",
    "  sum+=i\n",
    "  i-=1\n",
    "\n",
    "print(\"Sum of first 100 numbers is \",sum)"
   ]
  },
  {
   "cell_type": "markdown",
   "metadata": {
    "id": "IVgE9sba_DBe"
   },
   "source": [
    "### For Loop\n",
    "A `for` loop iterates over a sequence (e.g., lists, strings, ranges) and executes a block of code for each element.\n",
    "```\n",
    "for item in sequence:\n",
    "    # Code to execute for each item\n",
    "```"
   ]
  },
  {
   "cell_type": "code",
   "execution_count": null,
   "metadata": {
    "id": "_Hq3JmrQnLOY"
   },
   "outputs": [],
   "source": [
    "#for loop:\n",
    "sum=0\n",
    "for i in range(100):\n",
    "  sum+=i\n",
    "print(\"Sum of first 100 numbers is \",sum)"
   ]
  },
  {
   "cell_type": "markdown",
   "metadata": {
    "id": "kg5mN4uciAaE"
   },
   "source": [
    "Notice the simplicity of the `for` loop: we specify the variable we want to use, the sequence we want to loop over, and use the “`in`” operator to link them together in an intuitive and readable way. More precisely, the object to the right of the “`in`” can be any Python *iterator*.\n"
   ]
  },
  {
   "cell_type": "markdown",
   "metadata": {
    "id": "qMrALIQ4BRp9"
   },
   "source": [
    "We can loop over any list, no matter what type of object is stored in it"
   ]
  },
  {
   "cell_type": "code",
   "execution_count": null,
   "metadata": {
    "id": "44kfCvK1BVag"
   },
   "outputs": [],
   "source": [
    "animals = ['cat', 'dog', 'monkey']\n",
    "for animal in animals:\n",
    "    print(animal)"
   ]
  },
  {
   "cell_type": "markdown",
   "metadata": {
    "id": "DNbLXKFdBdCC"
   },
   "source": [
    "It is easy to iterate over keys in dictionaries"
   ]
  },
  {
   "cell_type": "code",
   "execution_count": 32,
   "metadata": {
    "colab": {
     "base_uri": "https://localhost:8080/"
    },
    "id": "6_lFqAvQBhj0",
    "outputId": "0242e193-6268-443c-8c8d-fda12f669dd3"
   },
   "outputs": [
    {
     "name": "stdout",
     "output_type": "stream",
     "text": [
      "New York\n",
      "Paris\n",
      "Dubai\n",
      "London\n"
     ]
    }
   ],
   "source": [
    "d={1:'New York',2:'Paris',3:'Dubai',4:'London'}\n",
    "for i,city in d.items():\n",
    "  print(d.get(i))"
   ]
  },
  {
   "cell_type": "markdown",
   "metadata": {
    "id": "Kf73WHEagVy7"
   },
   "source": [
    "#### Practice questions:\n",
    "1. Display Fibonacci Series upto 10 terms\n",
    "2. Display numbers at the odd indices of a list"
   ]
  },
  {
   "cell_type": "markdown",
   "metadata": {
    "id": "C4OU5O4QJKQW"
   },
   "source": [
    "## Operations on Objects\n",
    "Everything in python is an object. Strings are objects, lists are objects, dictionaries are objects, arrays are objects, etc.\n",
    "\n",
    "And objects have functions. We use dot '.' to invoke functions. eg-\n",
    "\n",
    "```\n",
    "l = [1,23,5]\n",
    "l.append(10)\n",
    "print(l)\n",
    "```\n",
    "\n",
    "In this section we will go over some common functions that will prove to be very useful in your day to day tasks.\n"
   ]
  },
  {
   "cell_type": "markdown",
   "metadata": {
    "id": "TxilPAKt_8Ys"
   },
   "source": [
    "### Operations on Strings"
   ]
  },
  {
   "cell_type": "code",
   "execution_count": null,
   "metadata": {
    "id": "oFGkcwhskZUe"
   },
   "outputs": [],
   "source": [
    "a = \"This is Data Science Bootcamp\"\n",
    "b = \"Held in Spring'\"+\"2024\"\n",
    "print(a+\" \"+b)"
   ]
  },
  {
   "cell_type": "code",
   "execution_count": null,
   "metadata": {
    "id": "mKrW1WfOlhIG"
   },
   "outputs": [],
   "source": [
    "s = \"12345\"\n",
    "print(s[0])\n",
    "print(s[1:3])\n",
    "print(s[-3])"
   ]
  },
  {
   "cell_type": "code",
   "execution_count": null,
   "metadata": {
    "id": "DGgjuDjhlj4N"
   },
   "outputs": [],
   "source": [
    "#Predict the output of this code block\n",
    "s[1]='5'"
   ]
  },
  {
   "cell_type": "code",
   "execution_count": null,
   "metadata": {
    "id": "usIwEE6H-nUu"
   },
   "outputs": [],
   "source": [
    "list(s)"
   ]
  },
  {
   "cell_type": "code",
   "execution_count": null,
   "metadata": {
    "id": "6_7V6zqh-4Ve"
   },
   "outputs": [],
   "source": [
    "TestString = \"I am part of the Data Science Bootcamp at NYU\"\n",
    "TestString.split(\" \")"
   ]
  },
  {
   "cell_type": "code",
   "execution_count": null,
   "metadata": {
    "id": "s_4BKX6s_HSc"
   },
   "outputs": [],
   "source": [
    "l = TestString.split(\" \")\n",
    "\" \".join(l)"
   ]
  },
  {
   "cell_type": "markdown",
   "metadata": {
    "id": "qbFpT5uIW2ke"
   },
   "source": [
    "String objects have a bunch of useful methods; for example:*italicized text*"
   ]
  },
  {
   "cell_type": "code",
   "execution_count": null,
   "metadata": {
    "id": "Y_OjRNfFM5hX"
   },
   "outputs": [],
   "source": [
    "s = \"hello\"\n",
    "print(s.capitalize())  # Capitalize a string\n",
    "print(s.upper())       # Convert a string to uppercase; prints \"HELLO\"\n",
    "print(s.rjust(7))      # Right-justify a string, padding with spaces\n",
    "print(s.center(7))     # Center a string, padding with spaces\n",
    "print(s.replace('l', '(ell)'))  # Replace all instances of one substring with another"
   ]
  },
  {
   "cell_type": "markdown",
   "metadata": {
    "id": "tv6C8iWaACNg"
   },
   "source": [
    "### Operations on Lists"
   ]
  },
  {
   "cell_type": "code",
   "execution_count": null,
   "metadata": {
    "id": "zyMvaFJq_bqb"
   },
   "outputs": [],
   "source": [
    "l =['apple','mango']\n",
    "m = ['banana', 'orange']\n",
    "lm = l+m\n",
    "print(lm)\n",
    "print(lm.append('kiwi'))\n",
    "print(lm[-1])\n",
    "\n",
    "print(\"----------------\")\n",
    "\n",
    "print(lm[::-1]) # Reverse Indexing\n",
    "lm.append(lm[:2])\n",
    "print(lm)\n",
    "print(\"----------------\")\n",
    "print(\"2D indexing\")\n",
    "print(lm[-1][0])"
   ]
  },
  {
   "cell_type": "markdown",
   "metadata": {
    "id": "77Cn0pIIo-C5"
   },
   "source": [
    "### Operations on Dictionaries"
   ]
  },
  {
   "cell_type": "code",
   "execution_count": null,
   "metadata": {
    "id": "Ai4v5R7XAyVr"
   },
   "outputs": [],
   "source": [
    "mydict = {\"a\":1, \"b\":2, \"c\":[3,4]}\n",
    "print(mydict['a']) #accessing an element\n",
    "print(len(mydict)) #number of keys in a dictionary\n",
    "print(mydict.keys()) # accessing the keys of the dictionary\n",
    "print(mydict.values()) #iterable over the values of the dictionary\n",
    "print(mydict.items())  #iterable with (key,value) pairs"
   ]
  },
  {
   "cell_type": "markdown",
   "metadata": {
    "id": "4JeAs1WZssRE"
   },
   "source": [
    "### Practice Question"
   ]
  },
  {
   "cell_type": "code",
   "execution_count": null,
   "metadata": {
    "id": "MOSWtcyLsoKr"
   },
   "outputs": [],
   "source": [
    "string = \"\"\"\n",
    "I have provided this text to provide tips on creating interesting paragraphs.\n",
    "First, start with a clear topic sentence that introduces the main idea.\n",
    "Then, support the topic sentence with specific details, examples, and evidence.\n",
    "Vary the sentence length and structure to keep the reader engaged.\n",
    "Finally, end with a strong concluding sentence that summarizes the main points.\n",
    "Remember, practice makes perfect!\n",
    "\"\"\"\n",
    "#Your task is to count the number of different words in this text"
   ]
  },
  {
   "cell_type": "markdown",
   "metadata": {
    "id": "ZCIagPRDviy9"
   },
   "source": [
    "## **Functions in Python**\n",
    "\n",
    "Python functions are defined using the `def` keyword. The general syntax for defining a function is as follows -\n",
    "\n",
    "```\n",
    "def function_name([optional parameters]):\n",
    "  \"\"\"DocString\"\"\"\n",
    "  <body>\n",
    "  return <output>\n",
    "```\n",
    "\n",
    "\n",
    "\n"
   ]
  },
  {
   "cell_type": "code",
   "execution_count": 7,
   "metadata": {
    "id": "CBzEkA2Vtsin"
   },
   "outputs": [],
   "source": [
    "# Function for testing if a number is even\n",
    "\n",
    "def test_even_number(number):\n",
    "  return number%2==0    # Returns true if the remainder is 0, else returns false"
   ]
  },
  {
   "cell_type": "code",
   "execution_count": null,
   "metadata": {
    "id": "eD1Nh5Sgw9X_"
   },
   "outputs": [],
   "source": [
    "test_even_number(12)"
   ]
  },
  {
   "cell_type": "code",
   "execution_count": 6,
   "metadata": {
    "colab": {
     "base_uri": "https://localhost:8080/"
    },
    "id": "BDvzeaJE-QsA",
    "outputId": "f4e5a90e-d81f-477c-c5f8-2b47772f8ca4"
   },
   "outputs": [
    {
     "name": "stdout",
     "output_type": "stream",
     "text": [
      "negative\n",
      "zero\n",
      "positive\n"
     ]
    }
   ],
   "source": [
    "def sign(x):\n",
    "  '''Function that returns the sign of a number'''\n",
    "  if x > 0:\n",
    "    return 'positive'\n",
    "  elif x < 0:\n",
    "    return 'negative'\n",
    "  else:\n",
    "    return 'zero'\n",
    "\n",
    "for x in [-1, 0, 1]:\n",
    "    print(sign(x))"
   ]
  },
  {
   "cell_type": "markdown",
   "metadata": {
    "id": "PM6rsoDbx2BU"
   },
   "source": [
    "## Scope of the variables ！！！！！\n",
    "Specifies the region where we have access to the variable.\n",
    "It's very important to understand the scope of variables. It can be -\n",
    "1. Global scope - Variables defined outside and accessible within the functions(\"Visible everywhere\")\n",
    "2. Local scope - variable defined within the function and not accessible outside the function\n"
   ]
  },
  {
   "cell_type": "code",
   "execution_count": null,
   "metadata": {
    "id": "Bz-7CumgxAFS"
   },
   "outputs": [],
   "source": [
    "def f(z):\n",
    "  z=z**2\n",
    "  print(\"Printing y from within the function \",y)\n",
    "  return z\n",
    "\n",
    "y = 10\n",
    "print(f(y))\n",
    "print(y)\n",
    "#print(z)\n"
   ]
  },
  {
   "cell_type": "markdown",
   "metadata": {
    "id": "ezlXaH5e2up_"
   },
   "source": [
    "## Take home exercises\n",
    "\n",
    "1. Write a function  *count_vowels(word)* that takes a word as an argument and returns the number of vowels in the word\n",
    "2. Iterate through the following list of animals and print each one in all caps.\n",
    "\n",
    "  animals=['tiger', 'elephant', 'monkey', 'zebra', 'panther']\n",
    "\n",
    "3. Write a program that iterates from 1 to 20, printing each number and whether it's odd or even.\n",
    "4. Write a function *sum_of_integers(a, b)* that takes two integers as input from the user and returns their sum.\n"
   ]
  },
  {
   "cell_type": "code",
   "execution_count": 5,
   "metadata": {},
   "outputs": [],
   "source": [
    "#Q1:\n",
    "def count_vowels(word):\n",
    "    vowels=\"aeiouAEIOU\"\n",
    "    count=0\n",
    "    for i in word:\n",
    "        if i in vowels:\n",
    "            count+=1\n",
    "    return count"
   ]
  },
  {
   "cell_type": "code",
   "execution_count": 2,
   "metadata": {},
   "outputs": [
    {
     "name": "stdout",
     "output_type": "stream",
     "text": [
      "2\n"
     ]
    }
   ],
   "source": [
    "word=\"Hello\"\n",
    "print(count_vowels(word))"
   ]
  },
  {
   "cell_type": "code",
   "execution_count": 7,
   "metadata": {},
   "outputs": [
    {
     "name": "stdout",
     "output_type": "stream",
     "text": [
      "TIGER\n",
      "ELEPHANT\n",
      "MONKEY\n",
      "ZEBRA\n",
      "PANTHER\n"
     ]
    }
   ],
   "source": [
    "#Q2:\n",
    "animals=['tiger', 'elephant', 'monkey', 'zebra', 'panther']\n",
    "for ani in animals:\n",
    "    print(ani.upper())"
   ]
  },
  {
   "cell_type": "code",
   "execution_count": 9,
   "metadata": {},
   "outputs": [
    {
     "name": "stdout",
     "output_type": "stream",
     "text": [
      "1 is odd\n",
      "2 is even\n",
      "3 is odd\n",
      "4 is even\n",
      "5 is odd\n",
      "6 is even\n",
      "7 is odd\n",
      "8 is even\n",
      "9 is odd\n",
      "10 is even\n",
      "11 is odd\n",
      "12 is even\n",
      "13 is odd\n",
      "14 is even\n",
      "15 is odd\n",
      "16 is even\n",
      "17 is odd\n",
      "18 is even\n",
      "19 is odd\n"
     ]
    }
   ],
   "source": [
    "#Q3:\n",
    "for num in range(1,20):\n",
    "    if num%2==0:\n",
    "        print(f\"{num} is even\")\n",
    "    else:\n",
    "        print(f\"{num} is odd\")"
   ]
  },
  {
   "cell_type": "markdown",
   "metadata": {},
   "source": [
    "Note:: F\"{}\" Format\n",
    "\n",
    "Prefixing with 'f': An f-string is created by prefixing a string literal with the letter 'f' or 'F'. This tells Python that the string will contain expressions enclosed in curly braces {} that should be evaluated and replaced with their values.\n",
    "\n",
    "Embedding expressions: Inside the string, you can include Python expressions enclosed in curly braces {}. These expressions will be evaluated and replaced with their results when the string is formatted.\n",
    "\n",
    "Variables and expressions: You can directly reference variables or include more complex expressions inside the curly braces. Python will evaluate these expressions and replace them with their values when formatting the string.\n",
    "\n",
    "In the example f\"{num} is odd.\", {num} is a placeholder for the value of the variable num. When the string is formatted, {num} will be replaced with the actual value of num, and the resulting string will include the number followed by \"is odd.\" or \"is even.\" depending on the value of num.\n",
    "\n",
    "In this example, {num} is a placeholder for the variables num, respectively. When the string is formatted, these placeholders are replaced with the values of the variables, resulting in a formatted string."
   ]
  },
  {
   "cell_type": "code",
   "execution_count": 11,
   "metadata": {},
   "outputs": [
    {
     "name": "stdout",
     "output_type": "stream",
     "text": [
      "11\n"
     ]
    }
   ],
   "source": [
    "#Q4\n",
    "\n",
    "def  sum_of_integers(a, b):\n",
    "    result= a+b\n",
    "    return result\n",
    "print(sum_of_integers(1,10))"
   ]
  },
  {
   "cell_type": "code",
   "execution_count": 14,
   "metadata": {},
   "outputs": [
    {
     "name": "stdout",
     "output_type": "stream",
     "text": [
      "write the first number1\n",
      "write the second number10\n",
      "11\n"
     ]
    }
   ],
   "source": [
    "num1=int(input(\"write the first number\")) #学会input形式\n",
    "num2=int(input(\"write the second number\"))\n",
    "print(sum_of_integers(num1,num2))"
   ]
  },
  {
   "cell_type": "markdown",
   "metadata": {
    "id": "8BtJxyCP7MN2"
   },
   "source": [
    "## Additional Challenge - Books data challenge"
   ]
  },
  {
   "cell_type": "code",
   "execution_count": null,
   "metadata": {
    "id": "7RbAd58HUDOc"
   },
   "outputs": [],
   "source": [
    "books = [\n",
    "    {\n",
    "        \"title\": \"The Great Gatsby\",\n",
    "        \"author\": \"F. Scott Fitzgerald\",\n",
    "        \"genre\": \"Fiction\",\n",
    "        \"rating\": 4.2\n",
    "    },\n",
    "    {\n",
    "        \"title\": \"To Kill a Mockingbird\",\n",
    "        \"author\": \"Harper Lee\",\n",
    "        \"genre\": \"Classic\",\n",
    "        \"rating\": 4.5\n",
    "    },\n",
    "    {\n",
    "        \"title\": \"1984\",\n",
    "        \"author\": \"George Orwell\",\n",
    "        \"genre\": \"Dystopian\",\n",
    "        \"rating\": 4.8\n",
    "    },\n",
    "    {\n",
    "        \"title\": \"Pride and Prejudice\",\n",
    "        \"author\": \"Jane Austen\",\n",
    "        \"genre\": \"Romance\",\n",
    "        \"rating\": 4.7\n",
    "    },\n",
    "    {\n",
    "        \"title\": \"Harry Potter and the Sorcerer's Stone\",\n",
    "        \"author\": \"J.K. Rowling\",\n",
    "        \"genre\": \"Fantasy\",\n",
    "        \"rating\": 4.9\n",
    "    },\n",
    "    {\n",
    "        \"title\": \"The Catcher in the Rye\",\n",
    "        \"author\": \"J.D. Salinger\",\n",
    "        \"genre\": \"Coming-of-age\",\n",
    "        \"rating\": 4.1\n",
    "    }\n",
    "]"
   ]
  },
  {
   "cell_type": "markdown",
   "metadata": {
    "id": "EiR5GmoY7VzW"
   },
   "source": [
    "1.Checking Book Ratings\n",
    "\n",
    "Write a function `check_rating(book)` that takes a book dictionary and returns True if the rating is greater than 4.5, and False otherwise. Additionally, modify the function to return 'low' if the rating is less than or equal to 4.0, 'medium' if it's greater than 4.0 but less than or equal to 4.5, and 'high' if it's greater than 4.5.\n",
    "\n",
    "2.Average Rating by Genre\n",
    "\n",
    "Write a function `average_rating_by_genre(books, genre)` that accepts the list of books and a genre, and returns the average rating for that genre. If the genre does not exist in the list, return an appropriate message.\n",
    "\n",
    "3.Books by Author\n",
    "\n",
    "Write a function `books_by_author(books, author)` that accepts the book list and an author's name, and returns a list of all the books written by that author. If the author does not exist, raise a custom error."
   ]
  },
  {
   "cell_type": "code",
   "execution_count": null,
   "metadata": {
    "id": "fAUCBBoxDXJ7"
   },
   "outputs": [],
   "source": []
  }
 ],
 "metadata": {
  "colab": {
   "provenance": []
  },
  "kernelspec": {
   "display_name": "Python 3",
   "language": "python",
   "name": "python3"
  },
  "language_info": {
   "codemirror_mode": {
    "name": "ipython",
    "version": 3
   },
   "file_extension": ".py",
   "mimetype": "text/x-python",
   "name": "python",
   "nbconvert_exporter": "python",
   "pygments_lexer": "ipython3",
   "version": "3.8.3"
  }
 },
 "nbformat": 4,
 "nbformat_minor": 1
}
